{
 "cells": [
  {
   "cell_type": "markdown",
   "id": "f3434634-18e2-4c5c-9a3e-cbdaa4410b7b",
   "metadata": {},
   "source": [
    "# convert to 2dp"
   ]
  },
  {
   "cell_type": "code",
   "execution_count": 2,
   "id": "d7d5c8d5-cd72-4a3d-991e-68e36a01d3a5",
   "metadata": {},
   "outputs": [
    {
     "name": "stdout",
     "output_type": "stream",
     "text": [
      "             A           B           C           D           E           F  \\\n",
      "0  -1338845.18 -2058865.84 -3561641.62 -6029268.02 -7844212.51 -8585413.56   \n",
      "1    914013.20  1440229.24  2696458.99  4433820.48  5763472.23  6048816.49   \n",
      "2    141016.92   141016.92   141016.92   141016.92   141016.92   141016.92   \n",
      "3     30133.96    30133.96    30133.96    30133.96    30133.96    30133.96   \n",
      "4     12578.42    17503.88    32262.65    46959.46    64363.20    64758.01   \n",
      "..         ...         ...         ...         ...         ...         ...   \n",
      "80    10416.67    10416.67    10416.67    10416.67    10416.67    10416.67   \n",
      "81      441.85      441.85      441.85      441.85      441.85      441.85   \n",
      "82      542.50      542.50      542.50      542.50      542.50      542.50   \n",
      "83       60.12       60.12       60.12       60.12       60.12       60.12   \n",
      "84     2000.00     2000.00     2000.00     2000.00     2000.00     2000.00   \n",
      "\n",
      "             G           H           I           J          K          L  \n",
      "0  -5752272.33 -2852232.66 -3447809.71 -1449218.31 -143852.64  -36840.28  \n",
      "1   4074144.57  2129157.73  2534125.16  1033198.38   89001.50   23449.13  \n",
      "2    141016.92   141016.92   141016.92   141016.92  141016.92  141016.92  \n",
      "3     30133.96    30133.96    30133.96    30133.96   30133.96   30133.96  \n",
      "4     48598.65    26338.09    33056.85    12845.93       0.00       0.00  \n",
      "..         ...         ...         ...         ...        ...        ...  \n",
      "80    10416.67    10416.67    10416.67    10416.67   10416.67   10416.67  \n",
      "81      441.85      441.85      441.85      441.85     441.85     441.85  \n",
      "82      542.50      542.50      542.50      542.50     542.50     542.50  \n",
      "83       60.12       60.12       60.12       60.12      60.12      60.12  \n",
      "84     2000.00     2000.00     2000.00     2000.00    2000.00    2000.00  \n",
      "\n",
      "[85 rows x 12 columns]\n"
     ]
    }
   ],
   "source": [
    "import pandas as pd\n",
    "\n",
    "# Read the CSV file\n",
    "df = pd.read_csv(\"data.csv\")\n",
    "\n",
    "# Convert all numeric columns to 2 decimal places\n",
    "df = df.apply(lambda x: x.round(2) if x.dtype == 'float64' else x)\n",
    "\n",
    "print(df.shape)\n",
    "df.head()\n",
    "df.to_csv(\"convert_dp.csv\", index=False)\n"
   ]
  },
  {
   "cell_type": "code",
   "execution_count": 3,
   "id": "7c0a4420-3518-46a7-9781-356b80489024",
   "metadata": {},
   "outputs": [],
   "source": [
    "df.to_csv(\"convert_dp.csv\", index=False)\n"
   ]
  },
  {
   "cell_type": "markdown",
   "id": "e9053347-1117-4c37-8f40-620a9d9bb93a",
   "metadata": {},
   "source": [
    "# Round to 2dp"
   ]
  },
  {
   "cell_type": "code",
   "execution_count": null,
   "id": "b5ca4ac6-b947-424f-9212-8406679b0e74",
   "metadata": {},
   "outputs": [],
   "source": [
    "df = pd.read_csv(\"data.csv\")\n",
    "\n",
    "# Round all numeric columns to 2 decimal places\n",
    "df = df.apply(lambda x: round(x, 2) if pd.api.types.is_numeric_dtype(x) else x)\n",
    "\n",
    "# Save the updated DataFrame to a new CSV file\n",
    "df.to_csv(\"rouded_data.csv\", index=False)\n",
    "\n",
    "print(\"Data rounded to 2 decimal places and saved to 'data_updated.csv'\")\n",
    "\n",
    "print(df.shape)\n",
    "df.head()\n",
    "\n"
   ]
  }
 ],
 "metadata": {
  "kernelspec": {
   "display_name": "Python 3 (ipykernel)",
   "language": "python",
   "name": "python3"
  },
  "language_info": {
   "codemirror_mode": {
    "name": "ipython",
    "version": 3
   },
   "file_extension": ".py",
   "mimetype": "text/x-python",
   "name": "python",
   "nbconvert_exporter": "python",
   "pygments_lexer": "ipython3",
   "version": "3.11.7"
  }
 },
 "nbformat": 4,
 "nbformat_minor": 5
}
