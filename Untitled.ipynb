{
 "cells": [
  {
   "cell_type": "code",
   "execution_count": 1,
   "id": "105e4afc-8a74-4dcc-8cf6-c54e462098d3",
   "metadata": {},
   "outputs": [],
   "source": [
    "import requests\n",
    "from bs4 import BeautifulSoup\n",
    "\n",
    "# Target URL for Puma filling station locations\n",
    "url = \"https://totalenergies.com.gh/totalenergies-station-services/find-your-station\"  # Replace with the actual URL\n",
    "\n",
    "# Send a GET request to the website\n",
    "headers = {\n",
    "    \"User-Agent\": \"Mozilla/5.0 (Windows NT 10.0; Win64; x64) AppleWebKit/537.36 (KHTML, like Gecko) Chrome/91.0.4472.124 Safari/537.36\"\n",
    "}\n",
    "response = requests.get(url, headers=headers)\n",
    "\n",
    "# Check if the request was successful\n",
    "if response.status_code == 200:\n",
    "    # Parse the HTML content with Beautiful Soup\n",
    "    soup = BeautifulSoup(response.content, \"html.parser\")\n",
    "    \n",
    "    # Find all location blocks (adjust the tag and class based on the site's structure)\n",
    "    locations = soup.find_all(\"div\", class_=\"location-card\")  # Example class\n",
    "\n",
    "    # Extract data from each location block\n",
    "    for location in locations:\n",
    "        name = location.find(\"h3\", class_=\"location-name\").text.strip()\n",
    "        address = location.find(\"p\", class_=\"location-address\").text.strip()\n",
    "        print(f\"Name: {name}\")\n",
    "        print(f\"Address: {address}\")\n",
    "        print(\"-\" * 50)\n",
    "else:\n",
    "    print(f\"Failed to retrieve the page. Status code: {response.status_code}\")\n"
   ]
  },
  {
   "cell_type": "code",
   "execution_count": 2,
   "id": "6a58fa01-3f44-482e-beac-a18a77b39a95",
   "metadata": {},
   "outputs": [
    {
     "name": "stdout",
     "output_type": "stream",
     "text": [
      "Failed to retrieve page 1\n",
      "Failed to retrieve page 2\n",
      "Failed to retrieve page 3\n",
      "Failed to retrieve page 4\n",
      "Failed to retrieve page 5\n"
     ]
    }
   ],
   "source": [
    "# Example: Loop through paginated URLs\n",
    "base_url = \"https://totalenergies.com.gh/totalenergies-station-services/find-your-station\"\n",
    "\n",
    "for page in range(1, 6):  # Adjust the range based on the number of pages\n",
    "    response = requests.get(base_url + str(page), headers=headers)\n",
    "    if response.status_code == 200:\n",
    "        soup = BeautifulSoup(response.content, \"html.parser\")\n",
    "        # Repeat extraction logic here\n",
    "    else:\n",
    "        print(f\"Failed to retrieve page {page}\")\n"
   ]
  },
  {
   "cell_type": "code",
   "execution_count": 3,
   "id": "3bba0e1a-476f-459b-97bc-500d7735fb8d",
   "metadata": {},
   "outputs": [],
   "source": [
    "import csv\n",
    "\n",
    "# Open a CSV file to save the data\n",
    "with open(\"puma_locations.csv\", mode=\"w\", newline=\"\", encoding=\"utf-8\") as file:\n",
    "    writer = csv.writer(file)\n",
    "    writer.writerow([\"Name\", \"Address\"])  # Header row\n",
    "\n",
    "    for location in locations:\n",
    "        name = location.find(\"h3\", class_=\"location-name\").text.strip()\n",
    "        address = location.find(\"p\", class_=\"location-address\").text.strip()\n",
    "        writer.writerow([name, address])\n"
   ]
  },
  {
   "cell_type": "code",
   "execution_count": null,
   "id": "b68a9a2c-d054-4a78-ac9c-b35f47bfdbc7",
   "metadata": {},
   "outputs": [],
   "source": []
  }
 ],
 "metadata": {
  "kernelspec": {
   "display_name": "Python 3 (ipykernel)",
   "language": "python",
   "name": "python3"
  },
  "language_info": {
   "codemirror_mode": {
    "name": "ipython",
    "version": 3
   },
   "file_extension": ".py",
   "mimetype": "text/x-python",
   "name": "python",
   "nbconvert_exporter": "python",
   "pygments_lexer": "ipython3",
   "version": "3.11.7"
  }
 },
 "nbformat": 4,
 "nbformat_minor": 5
}
